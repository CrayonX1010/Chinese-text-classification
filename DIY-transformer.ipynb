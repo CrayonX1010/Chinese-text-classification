{
 "cells": [
  {
   "cell_type": "code",
   "execution_count": 38,
   "id": "3e6f9f37-1a1a-455f-91e8-cc6caed6027c",
   "metadata": {},
   "outputs": [],
   "source": [
    "import torch\n",
    "import torch.nn as nn\n",
    "import torch.optim as optim\n",
    "\n",
    "# 定义自定义 Transformer 模型\n",
    "class CustomTransformer(nn.Module):\n",
    "    def __init__(self, input_dim, embed_dim, num_heads, num_layers, num_classes, dropout=0.1):\n",
    "        super(CustomTransformer, self).__init__()\n",
    "        \n",
    "        # 词嵌入层\n",
    "        self.embedding = nn.Embedding(input_dim, embed_dim)\n",
    "        self.positional_encoding = nn.Parameter(torch.zeros(1, 500, embed_dim))  # 固定长度的Positional Encoding\n",
    "        \n",
    "        # Transformer编码器\n",
    "        encoder_layer = nn.TransformerEncoderLayer(d_model=embed_dim, nhead=num_heads, dropout=dropout)\n",
    "        self.encoder = nn.TransformerEncoder(encoder_layer, num_layers=num_layers)\n",
    "        \n",
    "        # 分类器\n",
    "        self.classifier = nn.Linear(embed_dim, num_classes)\n",
    "    \n",
    "    def forward(self, x):\n",
    "        # 输入: (batch_size, seq_len)\n",
    "        embedded = self.embedding(x) + self.positional_encoding[:, :x.size(1), :]\n",
    "        \n",
    "        # 转置为 (seq_len, batch_size, embed_dim) 以匹配Transformer输入格式\n",
    "        embedded = embedded.permute(1, 0, 2)\n",
    "        \n",
    "        # Transformer 编码器\n",
    "        encoded = self.encoder(embedded)  # 输出: (seq_len, batch_size, embed_dim)\n",
    "        \n",
    "        # 提取序列第一个位置的表示用于分类\n",
    "        output = self.classifier(encoded[0, :, :])  # 取第一个时间步\n",
    "        \n",
    "        return output"
   ]
  },
  {
   "cell_type": "code",
   "execution_count": 12,
   "id": "58e6b800-164e-4abb-afda-7146176adcec",
   "metadata": {},
   "outputs": [
    {
     "name": "stderr",
     "output_type": "stream",
     "text": [
      "D:\\anaconda3\\Lib\\site-packages\\torch\\nn\\modules\\transformer.py:307: UserWarning: enable_nested_tensor is True, but self.use_nested_tensor is False because encoder_layer.self_attn.batch_first was not True(use batch_first for better inference performance)\n",
      "  warnings.warn(f\"enable_nested_tensor is True, but self.use_nested_tensor is False because {why_not_sparsity_fast_path}\")\n"
     ]
    },
    {
     "data": {
      "text/plain": [
       "CustomTransformer(\n",
       "  (embedding): Embedding(20000, 128)\n",
       "  (encoder): TransformerEncoder(\n",
       "    (layers): ModuleList(\n",
       "      (0-1): 2 x TransformerEncoderLayer(\n",
       "        (self_attn): MultiheadAttention(\n",
       "          (out_proj): NonDynamicallyQuantizableLinear(in_features=128, out_features=128, bias=True)\n",
       "        )\n",
       "        (linear1): Linear(in_features=128, out_features=2048, bias=True)\n",
       "        (dropout): Dropout(p=0.1, inplace=False)\n",
       "        (linear2): Linear(in_features=2048, out_features=128, bias=True)\n",
       "        (norm1): LayerNorm((128,), eps=1e-05, elementwise_affine=True)\n",
       "        (norm2): LayerNorm((128,), eps=1e-05, elementwise_affine=True)\n",
       "        (dropout1): Dropout(p=0.1, inplace=False)\n",
       "        (dropout2): Dropout(p=0.1, inplace=False)\n",
       "      )\n",
       "    )\n",
       "  )\n",
       "  (classifier): Linear(in_features=128, out_features=2, bias=True)\n",
       ")"
      ]
     },
     "execution_count": 12,
     "metadata": {},
     "output_type": "execute_result"
    }
   ],
   "source": [
    "# 超参数\n",
    "input_dim = 20000  # 假设有 20000 个不同的词\n",
    "embed_dim = 128    # 嵌入维度\n",
    "num_heads = 4      # 注意力头数\n",
    "num_layers = 2     # 编码器层数\n",
    "num_classes = 2    # 假设有 2 个类别\n",
    "dropout = 0.1      # Dropout 概率\n",
    "\n",
    "# 初始化模型\n",
    "model = CustomTransformer(input_dim, embed_dim, num_heads, num_layers, num_classes, dropout)\n",
    "device = torch.device(\"cuda\" if torch.cuda.is_available() else \"cpu\")\n",
    "model.to(device)\n"
   ]
  },
  {
   "cell_type": "code",
   "execution_count": 4,
   "id": "714a7f34-af27-433f-b290-b88878797cf1",
   "metadata": {},
   "outputs": [
    {
     "name": "stdout",
     "output_type": "stream",
     "text": [
      "Looking in indexes: https://pypi.tuna.tsinghua.edu.cn/simple\n",
      "Collecting transformers\n",
      "  Downloading https://pypi.tuna.tsinghua.edu.cn/packages/f2/3a/8bdab26e09c5a242182b7ba9152e216d5ab4ae2d78c4298eb4872549cd35/transformers-4.47.1-py3-none-any.whl (10.1 MB)\n",
      "     ---------------------------------------- 0.0/10.1 MB ? eta -:--:--\n",
      "     --------------- ------------------------ 3.9/10.1 MB 26.0 MB/s eta 0:00:01\n",
      "     --------------------------------------- 10.1/10.1 MB 39.5 MB/s eta 0:00:00\n",
      "Requirement already satisfied: filelock in d:\\anaconda3\\lib\\site-packages (from transformers) (3.13.1)\n",
      "Collecting huggingface-hub<1.0,>=0.24.0 (from transformers)\n",
      "  Downloading https://pypi.tuna.tsinghua.edu.cn/packages/61/8c/fbdc0a88a622d9fa54e132d7bf3ee03ec602758658a2db5b339a65be2cfe/huggingface_hub-0.27.0-py3-none-any.whl (450 kB)\n",
      "Requirement already satisfied: numpy>=1.17 in d:\\anaconda3\\lib\\site-packages (from transformers) (1.26.0)\n",
      "Requirement already satisfied: packaging>=20.0 in d:\\anaconda3\\lib\\site-packages (from transformers) (23.2)\n",
      "Requirement already satisfied: pyyaml>=5.1 in d:\\anaconda3\\lib\\site-packages (from transformers) (6.0.1)\n",
      "Requirement already satisfied: regex!=2019.12.17 in d:\\anaconda3\\lib\\site-packages (from transformers) (2023.10.3)\n",
      "Requirement already satisfied: requests in d:\\anaconda3\\lib\\site-packages (from transformers) (2.31.0)\n",
      "Collecting tokenizers<0.22,>=0.21 (from transformers)\n",
      "  Using cached https://pypi.tuna.tsinghua.edu.cn/packages/44/69/d21eb253fa91622da25585d362a874fa4710be600f0ea9446d8d0217cec1/tokenizers-0.21.0-cp39-abi3-win_amd64.whl (2.4 MB)\n",
      "Collecting safetensors>=0.4.1 (from transformers)\n",
      "  Using cached https://pypi.tuna.tsinghua.edu.cn/packages/6d/41/948c96c8a7e9fef57c2e051f1871c108a6dbbc6d285598bdb1d89b98617c/safetensors-0.4.5-cp311-none-win_amd64.whl (285 kB)\n",
      "Requirement already satisfied: tqdm>=4.27 in d:\\anaconda3\\lib\\site-packages (from transformers) (4.65.0)\n",
      "Requirement already satisfied: fsspec>=2023.5.0 in d:\\anaconda3\\lib\\site-packages (from huggingface-hub<1.0,>=0.24.0->transformers) (2023.10.0)\n",
      "Requirement already satisfied: typing-extensions>=3.7.4.3 in d:\\anaconda3\\lib\\site-packages (from huggingface-hub<1.0,>=0.24.0->transformers) (4.12.2)\n",
      "Requirement already satisfied: colorama in d:\\anaconda3\\lib\\site-packages (from tqdm>=4.27->transformers) (0.4.6)\n",
      "Requirement already satisfied: charset-normalizer<4,>=2 in d:\\anaconda3\\lib\\site-packages (from requests->transformers) (2.0.4)\n",
      "Requirement already satisfied: idna<4,>=2.5 in d:\\anaconda3\\lib\\site-packages (from requests->transformers) (3.4)\n",
      "Requirement already satisfied: urllib3<3,>=1.21.1 in d:\\anaconda3\\lib\\site-packages (from requests->transformers) (2.0.7)\n",
      "Requirement already satisfied: certifi>=2017.4.17 in d:\\anaconda3\\lib\\site-packages (from requests->transformers) (2024.8.30)\n",
      "Installing collected packages: safetensors, huggingface-hub, tokenizers, transformers\n",
      "Successfully installed huggingface-hub-0.27.0 safetensors-0.4.5 tokenizers-0.21.0 transformers-4.47.1\n",
      "Note: you may need to restart the kernel to use updated packages.\n"
     ]
    }
   ],
   "source": [
    "pip install transformers"
   ]
  },
  {
   "cell_type": "code",
   "execution_count": 13,
   "id": "6b01dc56-0b7a-4dd4-87e0-e80ec5d7644a",
   "metadata": {},
   "outputs": [],
   "source": [
    "from torch.utils.data import DataLoader, TensorDataset\n",
    "from transformers import BertTokenizer\n",
    "\n",
    "# 使用 BertTokenizer 进行分词\n",
    "tokenizer = BertTokenizer.from_pretrained('bert-base-chinese')\n",
    "\n",
    "# 示例文本\n",
    "texts = [\"深度学习是计算机的前沿技术\", \"糖尿病患者通常含有较低的胰岛素\"]\n",
    "labels = [0, 1]  # 假设有两个类别\n",
    "\n",
    "# 将文本转为 token ID，并进行填充\n",
    "inputs = tokenizer(texts, padding=True, truncation=True, max_length=128, return_tensors=\"pt\")\n",
    "input_ids = inputs['input_ids']\n",
    "attention_mask = inputs['attention_mask']\n",
    "\n",
    "# 转换为 TensorDataset\n",
    "labels = torch.tensor(labels)\n",
    "dataset = TensorDataset(input_ids, labels)\n",
    "\n",
    "# 创建 DataLoader\n",
    "dataloader = DataLoader(dataset, batch_size=2, shuffle=True)"
   ]
  },
  {
   "cell_type": "code",
   "execution_count": 14,
   "id": "317dfc1d-b1e1-45e0-979a-e5b206694a08",
   "metadata": {},
   "outputs": [],
   "source": [
    "from tqdm import tqdm\n",
    "import matplotlib.pyplot as plt\n",
    "\n",
    "# 定义训练函数并记录损失\n",
    "def train_with_loss_curve(model, dataloader, optimizer, criterion, device, epochs):\n",
    "    train_losses = []  # 保存每个 epoch 的平均损失\n",
    "\n",
    "    for epoch in range(epochs):\n",
    "        model.train()  # 切换到训练模式\n",
    "        total_loss = 0  # 累加所有 batch 的损失\n",
    "\n",
    "        print(f\"Epoch {epoch + 1}/{epochs}\")\n",
    "        for batch in tqdm(dataloader, desc=\"Training\"):\n",
    "            input_ids, labels = [b.to(device) for b in batch]  # 将数据迁移到设备上\n",
    "            \n",
    "            optimizer.zero_grad()  # 清空梯度\n",
    "            \n",
    "            # 前向传播\n",
    "            outputs = model(input_ids)\n",
    "            loss = criterion(outputs, labels)  # 计算损失\n",
    "            total_loss += loss.item()  # 累加当前 batch 的损失\n",
    "            \n",
    "            # 反向传播和参数更新\n",
    "            loss.backward()\n",
    "            optimizer.step()\n",
    "        \n",
    "        # 计算当前 epoch 的平均损失\n",
    "        avg_loss = total_loss / len(dataloader)\n",
    "        train_losses.append(avg_loss)\n",
    "        print(f\"Epoch {epoch + 1} Loss: {avg_loss:.4f}\")\n",
    "    \n",
    "    return train_losses\n",
    "\n"
   ]
  },
  {
   "cell_type": "code",
   "execution_count": 16,
   "id": "4d79b34b-83f9-4e3d-b85e-5d47fb1c647a",
   "metadata": {},
   "outputs": [],
   "source": [
    "def plot_loss_curve(train_losses):\n",
    "    plt.figure(figsize=(8, 6))\n",
    "    plt.plot(range(1, len(train_losses) + 1), train_losses, marker='o', label=\"Training Loss\")\n",
    "    plt.xlabel(\"Epochs\")\n",
    "    plt.ylabel(\"Loss\")\n",
    "    plt.title(\"Training Loss Curve\")\n",
    "    plt.legend()\n",
    "    plt.grid()\n",
    "    plt.show()\n"
   ]
  },
  {
   "cell_type": "code",
   "execution_count": 17,
   "id": "d1883e74-ff54-4e7d-9aab-738d08dd1481",
   "metadata": {},
   "outputs": [
    {
     "name": "stdout",
     "output_type": "stream",
     "text": [
      "Epoch 1/10\n"
     ]
    },
    {
     "name": "stderr",
     "output_type": "stream",
     "text": [
      "Training: 100%|██████████████████████████████████████████████████████████████████████████| 1/1 [00:00<00:00,  3.69it/s]\n"
     ]
    },
    {
     "name": "stdout",
     "output_type": "stream",
     "text": [
      "Epoch 1 Loss: 0.6268\n",
      "Epoch 2/10\n"
     ]
    },
    {
     "name": "stderr",
     "output_type": "stream",
     "text": [
      "Training: 100%|██████████████████████████████████████████████████████████████████████████| 1/1 [00:00<00:00,  2.49it/s]\n"
     ]
    },
    {
     "name": "stdout",
     "output_type": "stream",
     "text": [
      "Epoch 2 Loss: 1.1205\n",
      "Epoch 3/10\n"
     ]
    },
    {
     "name": "stderr",
     "output_type": "stream",
     "text": [
      "Training: 100%|██████████████████████████████████████████████████████████████████████████| 1/1 [00:00<00:00,  2.51it/s]\n"
     ]
    },
    {
     "name": "stdout",
     "output_type": "stream",
     "text": [
      "Epoch 3 Loss: 0.4297\n",
      "Epoch 4/10\n"
     ]
    },
    {
     "name": "stderr",
     "output_type": "stream",
     "text": [
      "Training: 100%|██████████████████████████████████████████████████████████████████████████| 1/1 [00:00<00:00,  3.28it/s]\n"
     ]
    },
    {
     "name": "stdout",
     "output_type": "stream",
     "text": [
      "Epoch 4 Loss: 0.3070\n",
      "Epoch 5/10\n"
     ]
    },
    {
     "name": "stderr",
     "output_type": "stream",
     "text": [
      "Training: 100%|██████████████████████████████████████████████████████████████████████████| 1/1 [00:00<00:00,  3.19it/s]\n"
     ]
    },
    {
     "name": "stdout",
     "output_type": "stream",
     "text": [
      "Epoch 5 Loss: 0.1207\n",
      "Epoch 6/10\n"
     ]
    },
    {
     "name": "stderr",
     "output_type": "stream",
     "text": [
      "Training: 100%|██████████████████████████████████████████████████████████████████████████| 1/1 [00:00<00:00,  2.98it/s]\n"
     ]
    },
    {
     "name": "stdout",
     "output_type": "stream",
     "text": [
      "Epoch 6 Loss: 0.1143\n",
      "Epoch 7/10\n"
     ]
    },
    {
     "name": "stderr",
     "output_type": "stream",
     "text": [
      "Training: 100%|██████████████████████████████████████████████████████████████████████████| 1/1 [00:00<00:00,  3.88it/s]\n"
     ]
    },
    {
     "name": "stdout",
     "output_type": "stream",
     "text": [
      "Epoch 7 Loss: 0.0415\n",
      "Epoch 8/10\n"
     ]
    },
    {
     "name": "stderr",
     "output_type": "stream",
     "text": [
      "Training: 100%|██████████████████████████████████████████████████████████████████████████| 1/1 [00:00<00:00,  2.69it/s]\n"
     ]
    },
    {
     "name": "stdout",
     "output_type": "stream",
     "text": [
      "Epoch 8 Loss: 0.0167\n",
      "Epoch 9/10\n"
     ]
    },
    {
     "name": "stderr",
     "output_type": "stream",
     "text": [
      "Training: 100%|██████████████████████████████████████████████████████████████████████████| 1/1 [00:00<00:00,  3.57it/s]\n"
     ]
    },
    {
     "name": "stdout",
     "output_type": "stream",
     "text": [
      "Epoch 9 Loss: 0.0040\n",
      "Epoch 10/10\n"
     ]
    },
    {
     "name": "stderr",
     "output_type": "stream",
     "text": [
      "Training: 100%|██████████████████████████████████████████████████████████████████████████| 1/1 [00:00<00:00,  2.36it/s]\n"
     ]
    },
    {
     "name": "stdout",
     "output_type": "stream",
     "text": [
      "Epoch 10 Loss: 0.0017\n"
     ]
    },
    {
     "data": {
      "image/png": "[encoded data removed]",
      "text/plain": [
       "<Figure size 800x600 with 1 Axes>"
      ]
     },
     "metadata": {},
     "output_type": "display_data"
    }
   ],
   "source": [
    "# 定义超参数\n",
    "epochs = 10  # 训练轮数\n",
    "learning_rate = 1e-3  # 学习率\n",
    "\n",
    "# 定义优化器和损失函数\n",
    "optimizer = optim.Adam(model.parameters(), lr=learning_rate)\n",
    "criterion = nn.CrossEntropyLoss()\n",
    "\n",
    "\n",
    "# 调用训练函数\n",
    "train_losses = train_with_loss_curve(model, dataloader, optimizer, criterion, device, epochs)\n",
    "\n",
    "# 绘制损失曲线\n",
    "plot_loss_curve(train_losses)\n",
    "\n"
   ]
  },
  {
   "cell_type": "code",
   "execution_count": 18,
   "id": "eebba664-e210-43cf-bfef-d4deb6ae38fb",
   "metadata": {},
   "outputs": [],
   "source": [
    "def predict_text(text, model, tokenizer, device):\n",
    "    \"\"\"\n",
    "    对单条文本进行分类预测\n",
    "    \"\"\"\n",
    "    model.eval()  # 设置为评估模式\n",
    "\n",
    "    # 对输入文本进行分词和编码\n",
    "    inputs = tokenizer(text, return_tensors=\"pt\", truncation=True, padding=True, max_length=128)\n",
    "    inputs = {key: val.to(device) for key, val in inputs.items()}  # 将数据迁移到模型所在的设备\n",
    "\n",
    "    with torch.no_grad():  # 禁用梯度计算\n",
    "        outputs = model(inputs['input_ids'])  # 前向传播\n",
    "        predicted_label = torch.argmax(outputs, dim=1).item()  # 获取预测结果\n",
    "\n",
    "    return predicted_label  # 返回预测的类别索引\n"
   ]
  },
  {
   "cell_type": "code",
   "execution_count": 22,
   "id": "a561e1c4-76fc-4ecd-ba80-f9c472ab8f94",
   "metadata": {},
   "outputs": [],
   "source": [
    "# 建立类别名称与索引的映射\n",
    "label_to_category = {\n",
    "    0: \"计算机\",\n",
    "    1: \"医学\"\n",
    "}"
   ]
  },
  {
   "cell_type": "code",
   "execution_count": 23,
   "id": "ac0bd558-f902-4cec-b3ab-24612775dffd",
   "metadata": {},
   "outputs": [
    {
     "name": "stdout",
     "output_type": "stream",
     "text": [
      "Predicted Label: 0\n"
     ]
    }
   ],
   "source": [
    "# 示例文本\n",
    "text = \"决策树是一种常见的机器学习模型\"  \n",
    "\n",
    "# 调用预测函数\n",
    "predicted_label = predict_text(text, model, tokenizer, device)\n",
    "print(f\"Predicted Label: {predicted_label}\")\n"
   ]
  },
  {
   "cell_type": "code",
   "execution_count": 24,
   "id": "3788c59f-83e0-438b-9121-158c8cda2c6c",
   "metadata": {},
   "outputs": [
    {
     "name": "stdout",
     "output_type": "stream",
     "text": [
      "Predicted Category: 计算机\n"
     ]
    }
   ],
   "source": [
    "print(f\"Predicted Category: {label_to_category[predicted_label]}\")"
   ]
  },
  {
   "cell_type": "code",
   "execution_count": 27,
   "id": "55d3315d-74ca-486e-9676-b3ee7c7b141a",
   "metadata": {},
   "outputs": [
    {
     "name": "stdout",
     "output_type": "stream",
     "text": [
      "Predicted Label: 1\n"
     ]
    }
   ],
   "source": [
    "# 示例文本\n",
    "text = \"糖尿病分为A型和B型\"  \n",
    "\n",
    "# 调用预测函数\n",
    "predicted_label = predict_text(text, model, tokenizer, device)\n",
    "print(f\"Predicted Label: {predicted_label}\")"
   ]
  },
  {
   "cell_type": "code",
   "execution_count": 28,
   "id": "7d188a80-be4f-4c49-88ee-06e18b4ef98a",
   "metadata": {},
   "outputs": [
    {
     "name": "stdout",
     "output_type": "stream",
     "text": [
      "Predicted Category: 医学\n"
     ]
    }
   ],
   "source": [
    "print(f\"Predicted Category: {label_to_category[predicted_label]}\")"
   ]
  },
  {
   "cell_type": "code",
   "execution_count": 39,
   "id": "b5c86bda-5612-4e3f-a488-e51928efd82d",
   "metadata": {},
   "outputs": [],
   "source": [
    "# 定义自定义 Transformer 模型\n",
    "class CustomTransformer(nn.Module):\n",
    "    def __init__(self, input_dim, embed_dim, num_heads, num_layers, num_classes, dropout=0.1):\n",
    "        super(CustomTransformer, self).__init__()\n",
    "        \n",
    "        # 词嵌入层\n",
    "        self.embedding = nn.Embedding(input_dim, embed_dim)\n",
    "        self.positional_encoding = nn.Parameter(torch.zeros(1, 500, embed_dim))  # 固定长度的 Positional Encoding\n",
    "        \n",
    "        # Transformer编码器\n",
    "        self.encoder_layers = nn.ModuleList([\n",
    "            nn.TransformerEncoderLayer(d_model=embed_dim, nhead=num_heads, dropout=dropout)\n",
    "            for _ in range(num_layers)\n",
    "        ])\n",
    "        \n",
    "        # 分类器\n",
    "        self.classifier = nn.Linear(embed_dim, num_classes)\n",
    "    \n",
    "    def forward(self, x, return_attention=False):\n",
    "        \"\"\"\n",
    "        自定义前向传播\n",
    "        :param x: 输入序列 (batch_size, seq_len)\n",
    "        :param return_attention: 是否返回注意力权重\n",
    "        \"\"\"\n",
    "        # 嵌入\n",
    "        embedded = self.embedding(x) + self.positional_encoding[:, :x.size(1), :]\n",
    "        embedded = embedded.permute(1, 0, 2)  # 转置为 (seq_len, batch_size, embed_dim)\n",
    "        \n",
    "        # 初始化注意力权重列表\n",
    "        attn_weights_list = []\n",
    "        \n",
    "        # Transformer 编码器\n",
    "        for layer in self.encoder_layers:\n",
    "            if return_attention:\n",
    "                encoded, attn_weights = layer.self_attn(embedded, embedded, embedded, need_weights=True)\n",
    "                attn_weights_list.append(attn_weights)  # 收集当前层的注意力权重\n",
    "            else:\n",
    "                encoded = layer(embedded)\n",
    "            embedded = encoded  # 更新输入\n",
    "        \n",
    "        # 分类器输出\n",
    "        output = self.classifier(encoded[0, :, :])  # 取第一个时间步的嵌入\n",
    "        \n",
    "        if return_attention:\n",
    "            # 返回分类结果和注意力权重\n",
    "            return output, torch.stack(attn_weights_list, dim=0)  # (num_layers, num_heads, seq_len, seq_len)\n",
    "        return output\n"
   ]
  },
  {
   "cell_type": "code",
   "execution_count": 40,
   "id": "532952a9-e6ce-4932-b737-2666bcba10b7",
   "metadata": {},
   "outputs": [
    {
     "data": {
      "text/plain": [
       "CustomTransformer(\n",
       "  (embedding): Embedding(20000, 128)\n",
       "  (encoder_layers): ModuleList(\n",
       "    (0-1): 2 x TransformerEncoderLayer(\n",
       "      (self_attn): MultiheadAttention(\n",
       "        (out_proj): NonDynamicallyQuantizableLinear(in_features=128, out_features=128, bias=True)\n",
       "      )\n",
       "      (linear1): Linear(in_features=128, out_features=2048, bias=True)\n",
       "      (dropout): Dropout(p=0.1, inplace=False)\n",
       "      (linear2): Linear(in_features=2048, out_features=128, bias=True)\n",
       "      (norm1): LayerNorm((128,), eps=1e-05, elementwise_affine=True)\n",
       "      (norm2): LayerNorm((128,), eps=1e-05, elementwise_affine=True)\n",
       "      (dropout1): Dropout(p=0.1, inplace=False)\n",
       "      (dropout2): Dropout(p=0.1, inplace=False)\n",
       "    )\n",
       "  )\n",
       "  (classifier): Linear(in_features=128, out_features=2, bias=True)\n",
       ")"
      ]
     },
     "execution_count": 40,
     "metadata": {},
     "output_type": "execute_result"
    }
   ],
   "source": [
    "# 模型参数\n",
    "input_dim = 20000  # 假设有 20000 个不同的词\n",
    "embed_dim = 128    # 嵌入维度\n",
    "num_heads = 4      # 注意力头数\n",
    "num_layers = 2     # 编码器层数\n",
    "num_classes = 2    # 假设有 2 个类别\n",
    "dropout = 0.1      # Dropout 概率\n",
    "\n",
    "# 初始化模型\n",
    "model = CustomTransformer(input_dim, embed_dim, num_heads, num_layers, num_classes, dropout)\n",
    "device = torch.device(\"cuda\" if torch.cuda.is_available() else \"cpu\")\n",
    "model.to(device)\n"
   ]
  },
  {
   "cell_type": "code",
   "execution_count": 42,
   "id": "c25cc106-dcac-4c1c-8545-09ee97d4058c",
   "metadata": {},
   "outputs": [
    {
     "name": "stdout",
     "output_type": "stream",
     "text": [
      "Epoch 1/10\n"
     ]
    },
    {
     "name": "stderr",
     "output_type": "stream",
     "text": [
      "Training Epoch 1/10: 100%|███████████████████████████████████████████████████████████████| 1/1 [00:00<00:00,  4.56it/s]\n"
     ]
    },
    {
     "name": "stdout",
     "output_type": "stream",
     "text": [
      "Epoch 1 - Loss: 0.1429\n",
      "Epoch 2/10\n"
     ]
    },
    {
     "name": "stderr",
     "output_type": "stream",
     "text": [
      "Training Epoch 2/10: 100%|███████████████████████████████████████████████████████████████| 1/1 [00:00<00:00,  4.20it/s]\n"
     ]
    },
    {
     "name": "stdout",
     "output_type": "stream",
     "text": [
      "Epoch 2 - Loss: 0.1406\n",
      "Epoch 3/10\n"
     ]
    },
    {
     "name": "stderr",
     "output_type": "stream",
     "text": [
      "Training Epoch 3/10: 100%|███████████████████████████████████████████████████████████████| 1/1 [00:00<00:00,  2.61it/s]\n"
     ]
    },
    {
     "name": "stdout",
     "output_type": "stream",
     "text": [
      "Epoch 3 - Loss: 0.0025\n",
      "Epoch 4/10\n"
     ]
    },
    {
     "name": "stderr",
     "output_type": "stream",
     "text": [
      "Training Epoch 4/10: 100%|███████████████████████████████████████████████████████████████| 1/1 [00:00<00:00,  3.45it/s]\n"
     ]
    },
    {
     "name": "stdout",
     "output_type": "stream",
     "text": [
      "Epoch 4 - Loss: 0.0010\n",
      "Epoch 5/10\n"
     ]
    },
    {
     "name": "stderr",
     "output_type": "stream",
     "text": [
      "Training Epoch 5/10: 100%|███████████████████████████████████████████████████████████████| 1/1 [00:00<00:00,  3.77it/s]\n"
     ]
    },
    {
     "name": "stdout",
     "output_type": "stream",
     "text": [
      "Epoch 5 - Loss: 0.0005\n",
      "Epoch 6/10\n"
     ]
    },
    {
     "name": "stderr",
     "output_type": "stream",
     "text": [
      "Training Epoch 6/10: 100%|███████████████████████████████████████████████████████████████| 1/1 [00:00<00:00,  2.95it/s]\n"
     ]
    },
    {
     "name": "stdout",
     "output_type": "stream",
     "text": [
      "Epoch 6 - Loss: 0.0006\n",
      "Epoch 7/10\n"
     ]
    },
    {
     "name": "stderr",
     "output_type": "stream",
     "text": [
      "Training Epoch 7/10: 100%|███████████████████████████████████████████████████████████████| 1/1 [00:00<00:00,  3.87it/s]\n"
     ]
    },
    {
     "name": "stdout",
     "output_type": "stream",
     "text": [
      "Epoch 7 - Loss: 0.0002\n",
      "Epoch 8/10\n"
     ]
    },
    {
     "name": "stderr",
     "output_type": "stream",
     "text": [
      "Training Epoch 8/10: 100%|███████████████████████████████████████████████████████████████| 1/1 [00:00<00:00,  3.61it/s]\n"
     ]
    },
    {
     "name": "stdout",
     "output_type": "stream",
     "text": [
      "Epoch 8 - Loss: 0.0003\n",
      "Epoch 9/10\n"
     ]
    },
    {
     "name": "stderr",
     "output_type": "stream",
     "text": [
      "Training Epoch 9/10: 100%|███████████████████████████████████████████████████████████████| 1/1 [00:00<00:00,  3.32it/s]\n"
     ]
    },
    {
     "name": "stdout",
     "output_type": "stream",
     "text": [
      "Epoch 9 - Loss: 0.0002\n",
      "Epoch 10/10\n"
     ]
    },
    {
     "name": "stderr",
     "output_type": "stream",
     "text": [
      "Training Epoch 10/10: 100%|██████████████████████████████████████████████████████████████| 1/1 [00:00<00:00,  3.76it/s]"
     ]
    },
    {
     "name": "stdout",
     "output_type": "stream",
     "text": [
      "Epoch 10 - Loss: 0.0001\n"
     ]
    },
    {
     "name": "stderr",
     "output_type": "stream",
     "text": [
      "\n"
     ]
    }
   ],
   "source": [
    "# 定义训练函数\n",
    "def train_model(model, dataloader, optimizer, criterion, device, epochs):\n",
    "    model.train()  # 切换到训练模式\n",
    "\n",
    "    for epoch in range(epochs):\n",
    "        print(f\"Epoch {epoch + 1}/{epochs}\")\n",
    "        total_loss = 0\n",
    "\n",
    "        for batch in tqdm(dataloader, desc=f\"Training Epoch {epoch + 1}/{epochs}\"):\n",
    "            input_ids, labels = [b.to(device) for b in batch]  # 将数据迁移到设备上\n",
    "\n",
    "            optimizer.zero_grad()  # 清空梯度\n",
    "            \n",
    "            # 前向传播\n",
    "            outputs = model(input_ids)\n",
    "            loss = criterion(outputs, labels)  # 计算损失\n",
    "            total_loss += loss.item()\n",
    "            \n",
    "            # 反向传播和参数更新\n",
    "            loss.backward()\n",
    "            optimizer.step()\n",
    "        \n",
    "        avg_loss = total_loss / len(dataloader)\n",
    "        print(f\"Epoch {epoch + 1} - Loss: {avg_loss:.4f}\")\n",
    "\n",
    "# 超参数\n",
    "epochs = 10\n",
    "learning_rate = 1e-3\n",
    "\n",
    "# 定义优化器和损失函数\n",
    "optimizer = optim.Adam(model.parameters(), lr=learning_rate)\n",
    "criterion = nn.CrossEntropyLoss()\n",
    "\n",
    "# 调用训练函数\n",
    "train_model(model, dataloader, optimizer, criterion, device, epochs)\n",
    "\n"
   ]
  },
  {
   "cell_type": "code",
   "execution_count": 49,
   "id": "b823f9d2-d083-4b2c-b25f-b14242c93f50",
   "metadata": {},
   "outputs": [
    {
     "name": "stderr",
     "output_type": "stream",
     "text": [
      "D:\\anaconda3\\Lib\\site-packages\\seaborn\\utils.py:80: UserWarning: Glyph 20915 (\\N{CJK UNIFIED IDEOGRAPH-51B3}) missing from current font.\n",
      "  fig.canvas.draw()\n",
      "D:\\anaconda3\\Lib\\site-packages\\seaborn\\utils.py:80: UserWarning: Glyph 31574 (\\N{CJK UNIFIED IDEOGRAPH-7B56}) missing from current font.\n",
      "  fig.canvas.draw()\n",
      "D:\\anaconda3\\Lib\\site-packages\\seaborn\\utils.py:80: UserWarning: Glyph 26641 (\\N{CJK UNIFIED IDEOGRAPH-6811}) missing from current font.\n",
      "  fig.canvas.draw()\n",
      "D:\\anaconda3\\Lib\\site-packages\\seaborn\\utils.py:80: UserWarning: Glyph 26159 (\\N{CJK UNIFIED IDEOGRAPH-662F}) missing from current font.\n",
      "  fig.canvas.draw()\n",
      "D:\\anaconda3\\Lib\\site-packages\\seaborn\\utils.py:80: UserWarning: Glyph 19968 (\\N{CJK UNIFIED IDEOGRAPH-4E00}) missing from current font.\n",
      "  fig.canvas.draw()\n",
      "D:\\anaconda3\\Lib\\site-packages\\seaborn\\utils.py:80: UserWarning: Glyph 31181 (\\N{CJK UNIFIED IDEOGRAPH-79CD}) missing from current font.\n",
      "  fig.canvas.draw()\n",
      "D:\\anaconda3\\Lib\\site-packages\\seaborn\\utils.py:80: UserWarning: Glyph 24120 (\\N{CJK UNIFIED IDEOGRAPH-5E38}) missing from current font.\n",
      "  fig.canvas.draw()\n",
      "D:\\anaconda3\\Lib\\site-packages\\seaborn\\utils.py:80: UserWarning: Glyph 35265 (\\N{CJK UNIFIED IDEOGRAPH-89C1}) missing from current font.\n",
      "  fig.canvas.draw()\n",
      "D:\\anaconda3\\Lib\\site-packages\\seaborn\\utils.py:80: UserWarning: Glyph 30340 (\\N{CJK UNIFIED IDEOGRAPH-7684}) missing from current font.\n",
      "  fig.canvas.draw()\n",
      "D:\\anaconda3\\Lib\\site-packages\\seaborn\\utils.py:80: UserWarning: Glyph 26426 (\\N{CJK UNIFIED IDEOGRAPH-673A}) missing from current font.\n",
      "  fig.canvas.draw()\n",
      "D:\\anaconda3\\Lib\\site-packages\\seaborn\\utils.py:80: UserWarning: Glyph 22120 (\\N{CJK UNIFIED IDEOGRAPH-5668}) missing from current font.\n",
      "  fig.canvas.draw()\n",
      "D:\\anaconda3\\Lib\\site-packages\\seaborn\\utils.py:80: UserWarning: Glyph 23398 (\\N{CJK UNIFIED IDEOGRAPH-5B66}) missing from current font.\n",
      "  fig.canvas.draw()\n",
      "D:\\anaconda3\\Lib\\site-packages\\seaborn\\utils.py:80: UserWarning: Glyph 20064 (\\N{CJK UNIFIED IDEOGRAPH-4E60}) missing from current font.\n",
      "  fig.canvas.draw()\n",
      "D:\\anaconda3\\Lib\\site-packages\\seaborn\\utils.py:80: UserWarning: Glyph 27169 (\\N{CJK UNIFIED IDEOGRAPH-6A21}) missing from current font.\n",
      "  fig.canvas.draw()\n",
      "D:\\anaconda3\\Lib\\site-packages\\seaborn\\utils.py:80: UserWarning: Glyph 22411 (\\N{CJK UNIFIED IDEOGRAPH-578B}) missing from current font.\n",
      "  fig.canvas.draw()\n",
      "D:\\anaconda3\\Lib\\site-packages\\IPython\\core\\pylabtools.py:152: UserWarning: Glyph 20915 (\\N{CJK UNIFIED IDEOGRAPH-51B3}) missing from current font.\n",
      "  fig.canvas.print_figure(bytes_io, **kw)\n",
      "D:\\anaconda3\\Lib\\site-packages\\IPython\\core\\pylabtools.py:152: UserWarning: Glyph 31574 (\\N{CJK UNIFIED IDEOGRAPH-7B56}) missing from current font.\n",
      "  fig.canvas.print_figure(bytes_io, **kw)\n",
      "D:\\anaconda3\\Lib\\site-packages\\IPython\\core\\pylabtools.py:152: UserWarning: Glyph 26641 (\\N{CJK UNIFIED IDEOGRAPH-6811}) missing from current font.\n",
      "  fig.canvas.print_figure(bytes_io, **kw)\n",
      "D:\\anaconda3\\Lib\\site-packages\\IPython\\core\\pylabtools.py:152: UserWarning: Glyph 26159 (\\N{CJK UNIFIED IDEOGRAPH-662F}) missing from current font.\n",
      "  fig.canvas.print_figure(bytes_io, **kw)\n",
      "D:\\anaconda3\\Lib\\site-packages\\IPython\\core\\pylabtools.py:152: UserWarning: Glyph 19968 (\\N{CJK UNIFIED IDEOGRAPH-4E00}) missing from current font.\n",
      "  fig.canvas.print_figure(bytes_io, **kw)\n",
      "D:\\anaconda3\\Lib\\site-packages\\IPython\\core\\pylabtools.py:152: UserWarning: Glyph 31181 (\\N{CJK UNIFIED IDEOGRAPH-79CD}) missing from current font.\n",
      "  fig.canvas.print_figure(bytes_io, **kw)\n",
      "D:\\anaconda3\\Lib\\site-packages\\IPython\\core\\pylabtools.py:152: UserWarning: Glyph 24120 (\\N{CJK UNIFIED IDEOGRAPH-5E38}) missing from current font.\n",
      "  fig.canvas.print_figure(bytes_io, **kw)\n",
      "D:\\anaconda3\\Lib\\site-packages\\IPython\\core\\pylabtools.py:152: UserWarning: Glyph 35265 (\\N{CJK UNIFIED IDEOGRAPH-89C1}) missing from current font.\n",
      "  fig.canvas.print_figure(bytes_io, **kw)\n",
      "D:\\anaconda3\\Lib\\site-packages\\IPython\\core\\pylabtools.py:152: UserWarning: Glyph 30340 (\\N{CJK UNIFIED IDEOGRAPH-7684}) missing from current font.\n",
      "  fig.canvas.print_figure(bytes_io, **kw)\n",
      "D:\\anaconda3\\Lib\\site-packages\\IPython\\core\\pylabtools.py:152: UserWarning: Glyph 26426 (\\N{CJK UNIFIED IDEOGRAPH-673A}) missing from current font.\n",
      "  fig.canvas.print_figure(bytes_io, **kw)\n",
      "D:\\anaconda3\\Lib\\site-packages\\IPython\\core\\pylabtools.py:152: UserWarning: Glyph 22120 (\\N{CJK UNIFIED IDEOGRAPH-5668}) missing from current font.\n",
      "  fig.canvas.print_figure(bytes_io, **kw)\n",
      "D:\\anaconda3\\Lib\\site-packages\\IPython\\core\\pylabtools.py:152: UserWarning: Glyph 23398 (\\N{CJK UNIFIED IDEOGRAPH-5B66}) missing from current font.\n",
      "  fig.canvas.print_figure(bytes_io, **kw)\n",
      "D:\\anaconda3\\Lib\\site-packages\\IPython\\core\\pylabtools.py:152: UserWarning: Glyph 20064 (\\N{CJK UNIFIED IDEOGRAPH-4E60}) missing from current font.\n",
      "  fig.canvas.print_figure(bytes_io, **kw)\n",
      "D:\\anaconda3\\Lib\\site-packages\\IPython\\core\\pylabtools.py:152: UserWarning: Glyph 27169 (\\N{CJK UNIFIED IDEOGRAPH-6A21}) missing from current font.\n",
      "  fig.canvas.print_figure(bytes_io, **kw)\n",
      "D:\\anaconda3\\Lib\\site-packages\\IPython\\core\\pylabtools.py:152: UserWarning: Glyph 22411 (\\N{CJK UNIFIED IDEOGRAPH-578B}) missing from current font.\n",
      "  fig.canvas.print_figure(bytes_io, **kw)\n"
     ]
    },
    {
     "data": {
      "image/png": "[encoded data removed]",
      "text/plain": [
       "<Figure size 1000x800 with 2 Axes>"
      ]
     },
     "metadata": {},
     "output_type": "display_data"
    },
    {
     "name": "stderr",
     "output_type": "stream",
     "text": [
      "D:\\anaconda3\\Lib\\site-packages\\seaborn\\utils.py:80: UserWarning: Glyph 20915 (\\N{CJK UNIFIED IDEOGRAPH-51B3}) missing from current font.\n",
      "  fig.canvas.draw()\n",
      "D:\\anaconda3\\Lib\\site-packages\\seaborn\\utils.py:80: UserWarning: Glyph 31574 (\\N{CJK UNIFIED IDEOGRAPH-7B56}) missing from current font.\n",
      "  fig.canvas.draw()\n",
      "D:\\anaconda3\\Lib\\site-packages\\seaborn\\utils.py:80: UserWarning: Glyph 26641 (\\N{CJK UNIFIED IDEOGRAPH-6811}) missing from current font.\n",
      "  fig.canvas.draw()\n",
      "D:\\anaconda3\\Lib\\site-packages\\seaborn\\utils.py:80: UserWarning: Glyph 26159 (\\N{CJK UNIFIED IDEOGRAPH-662F}) missing from current font.\n",
      "  fig.canvas.draw()\n",
      "D:\\anaconda3\\Lib\\site-packages\\seaborn\\utils.py:80: UserWarning: Glyph 19968 (\\N{CJK UNIFIED IDEOGRAPH-4E00}) missing from current font.\n",
      "  fig.canvas.draw()\n",
      "D:\\anaconda3\\Lib\\site-packages\\seaborn\\utils.py:80: UserWarning: Glyph 31181 (\\N{CJK UNIFIED IDEOGRAPH-79CD}) missing from current font.\n",
      "  fig.canvas.draw()\n",
      "D:\\anaconda3\\Lib\\site-packages\\seaborn\\utils.py:80: UserWarning: Glyph 24120 (\\N{CJK UNIFIED IDEOGRAPH-5E38}) missing from current font.\n",
      "  fig.canvas.draw()\n",
      "D:\\anaconda3\\Lib\\site-packages\\seaborn\\utils.py:80: UserWarning: Glyph 35265 (\\N{CJK UNIFIED IDEOGRAPH-89C1}) missing from current font.\n",
      "  fig.canvas.draw()\n",
      "D:\\anaconda3\\Lib\\site-packages\\seaborn\\utils.py:80: UserWarning: Glyph 30340 (\\N{CJK UNIFIED IDEOGRAPH-7684}) missing from current font.\n",
      "  fig.canvas.draw()\n",
      "D:\\anaconda3\\Lib\\site-packages\\seaborn\\utils.py:80: UserWarning: Glyph 26426 (\\N{CJK UNIFIED IDEOGRAPH-673A}) missing from current font.\n",
      "  fig.canvas.draw()\n",
      "D:\\anaconda3\\Lib\\site-packages\\seaborn\\utils.py:80: UserWarning: Glyph 22120 (\\N{CJK UNIFIED IDEOGRAPH-5668}) missing from current font.\n",
      "  fig.canvas.draw()\n",
      "D:\\anaconda3\\Lib\\site-packages\\seaborn\\utils.py:80: UserWarning: Glyph 23398 (\\N{CJK UNIFIED IDEOGRAPH-5B66}) missing from current font.\n",
      "  fig.canvas.draw()\n",
      "D:\\anaconda3\\Lib\\site-packages\\seaborn\\utils.py:80: UserWarning: Glyph 20064 (\\N{CJK UNIFIED IDEOGRAPH-4E60}) missing from current font.\n",
      "  fig.canvas.draw()\n",
      "D:\\anaconda3\\Lib\\site-packages\\seaborn\\utils.py:80: UserWarning: Glyph 27169 (\\N{CJK UNIFIED IDEOGRAPH-6A21}) missing from current font.\n",
      "  fig.canvas.draw()\n",
      "D:\\anaconda3\\Lib\\site-packages\\seaborn\\utils.py:80: UserWarning: Glyph 22411 (\\N{CJK UNIFIED IDEOGRAPH-578B}) missing from current font.\n",
      "  fig.canvas.draw()\n",
      "D:\\anaconda3\\Lib\\site-packages\\IPython\\core\\pylabtools.py:152: UserWarning: Glyph 20915 (\\N{CJK UNIFIED IDEOGRAPH-51B3}) missing from current font.\n",
      "  fig.canvas.print_figure(bytes_io, **kw)\n",
      "D:\\anaconda3\\Lib\\site-packages\\IPython\\core\\pylabtools.py:152: UserWarning: Glyph 31574 (\\N{CJK UNIFIED IDEOGRAPH-7B56}) missing from current font.\n",
      "  fig.canvas.print_figure(bytes_io, **kw)\n",
      "D:\\anaconda3\\Lib\\site-packages\\IPython\\core\\pylabtools.py:152: UserWarning: Glyph 26641 (\\N{CJK UNIFIED IDEOGRAPH-6811}) missing from current font.\n",
      "  fig.canvas.print_figure(bytes_io, **kw)\n",
      "D:\\anaconda3\\Lib\\site-packages\\IPython\\core\\pylabtools.py:152: UserWarning: Glyph 26159 (\\N{CJK UNIFIED IDEOGRAPH-662F}) missing from current font.\n",
      "  fig.canvas.print_figure(bytes_io, **kw)\n",
      "D:\\anaconda3\\Lib\\site-packages\\IPython\\core\\pylabtools.py:152: UserWarning: Glyph 19968 (\\N{CJK UNIFIED IDEOGRAPH-4E00}) missing from current font.\n",
      "  fig.canvas.print_figure(bytes_io, **kw)\n",
      "D:\\anaconda3\\Lib\\site-packages\\IPython\\core\\pylabtools.py:152: UserWarning: Glyph 31181 (\\N{CJK UNIFIED IDEOGRAPH-79CD}) missing from current font.\n",
      "  fig.canvas.print_figure(bytes_io, **kw)\n",
      "D:\\anaconda3\\Lib\\site-packages\\IPython\\core\\pylabtools.py:152: UserWarning: Glyph 24120 (\\N{CJK UNIFIED IDEOGRAPH-5E38}) missing from current font.\n",
      "  fig.canvas.print_figure(bytes_io, **kw)\n",
      "D:\\anaconda3\\Lib\\site-packages\\IPython\\core\\pylabtools.py:152: UserWarning: Glyph 35265 (\\N{CJK UNIFIED IDEOGRAPH-89C1}) missing from current font.\n",
      "  fig.canvas.print_figure(bytes_io, **kw)\n",
      "D:\\anaconda3\\Lib\\site-packages\\IPython\\core\\pylabtools.py:152: UserWarning: Glyph 30340 (\\N{CJK UNIFIED IDEOGRAPH-7684}) missing from current font.\n",
      "  fig.canvas.print_figure(bytes_io, **kw)\n",
      "D:\\anaconda3\\Lib\\site-packages\\IPython\\core\\pylabtools.py:152: UserWarning: Glyph 26426 (\\N{CJK UNIFIED IDEOGRAPH-673A}) missing from current font.\n",
      "  fig.canvas.print_figure(bytes_io, **kw)\n",
      "D:\\anaconda3\\Lib\\site-packages\\IPython\\core\\pylabtools.py:152: UserWarning: Glyph 22120 (\\N{CJK UNIFIED IDEOGRAPH-5668}) missing from current font.\n",
      "  fig.canvas.print_figure(bytes_io, **kw)\n",
      "D:\\anaconda3\\Lib\\site-packages\\IPython\\core\\pylabtools.py:152: UserWarning: Glyph 23398 (\\N{CJK UNIFIED IDEOGRAPH-5B66}) missing from current font.\n",
      "  fig.canvas.print_figure(bytes_io, **kw)\n",
      "D:\\anaconda3\\Lib\\site-packages\\IPython\\core\\pylabtools.py:152: UserWarning: Glyph 20064 (\\N{CJK UNIFIED IDEOGRAPH-4E60}) missing from current font.\n",
      "  fig.canvas.print_figure(bytes_io, **kw)\n",
      "D:\\anaconda3\\Lib\\site-packages\\IPython\\core\\pylabtools.py:152: UserWarning: Glyph 27169 (\\N{CJK UNIFIED IDEOGRAPH-6A21}) missing from current font.\n",
      "  fig.canvas.print_figure(bytes_io, **kw)\n",
      "D:\\anaconda3\\Lib\\site-packages\\IPython\\core\\pylabtools.py:152: UserWarning: Glyph 22411 (\\N{CJK UNIFIED IDEOGRAPH-578B}) missing from current font.\n",
      "  fig.canvas.print_figure(bytes_io, **kw)\n"
     ]
    },
    {
     "data": {
      "image/png": "[encoded data removed]",
      "text/plain": [
       "<Figure size 1000x800 with 2 Axes>"
      ]
     },
     "metadata": {},
     "output_type": "display_data"
    }
   ],
   "source": [
    "def get_attention_and_visualize(text, model, tokenizer, device):\n",
    "    \"\"\"\n",
    "    获取文本的注意力权重并可视化\n",
    "    :param text: 输入文本\n",
    "    :param model: 训练好的 Transformer 模型\n",
    "    :param tokenizer: 分词器\n",
    "    :param device: 设备\n",
    "    \"\"\"\n",
    "    model.eval()\n",
    "\n",
    "    # 对文本进行分词\n",
    "    inputs = tokenizer(text, return_tensors=\"pt\", truncation=True, padding=True, max_length=128)\n",
    "    input_ids = inputs['input_ids'].to(device)\n",
    "\n",
    "    with torch.no_grad():\n",
    "        # 获取分类结果和注意力权重\n",
    "        outputs, attn_weights = model(input_ids, return_attention=True)\n",
    "\n",
    "    # 将注意力权重的维度调整为 (num_layers, num_heads, seq_len, seq_len)\n",
    "    attn_weights = attn_weights.squeeze(1)  # 去掉 batch_size 维度\n",
    "    input_tokens = tokenizer.convert_ids_to_tokens(input_ids[0].tolist())\n",
    "\n",
    "    # 可视化注意力权重\n",
    "    visualize_attention_weights(attn_weights, input_tokens)\n",
    "    \n",
    "\n",
    "\n",
    "# 可视化函数\n",
    "def visualize_attention_weights(attn_weights, input_tokens):\n",
    "    \"\"\"\n",
    "    可视化注意力权重\n",
    "    :param attn_weights: 注意力权重 (num_heads, seq_len, seq_len)\n",
    "    :param input_tokens: 输入序列的 token 列表\n",
    "    \"\"\"\n",
    "    num_heads = attn_weights.shape[0]  # 注意力头数\n",
    "    seq_len = len(input_tokens)  # 序列长度\n",
    "\n",
    "    for head in range(num_heads):\n",
    "        plt.figure(figsize=(10, 8))\n",
    "        sns.heatmap(\n",
    "            attn_weights[head].cpu().detach().numpy(),\n",
    "            xticklabels=input_tokens,\n",
    "            yticklabels=input_tokens,\n",
    "            cmap=\"Blues\"\n",
    "        )\n",
    "        plt.title(f\"Head {head + 1}\")\n",
    "        plt.xlabel(\"Key Tokens\")\n",
    "        plt.ylabel(\"Query Tokens\")\n",
    "        plt.show()\n",
    "\n",
    "\n",
    "# 示例文本\n",
    "text = \"决策树是一种常见的机器学习模型\"\n",
    "get_attention_and_visualize(text, model, tokenizer, device)\n",
    "\n"
   ]
  },
  {
   "cell_type": "code",
   "execution_count": null,
   "id": "bc3dacd4-1d07-434e-8703-713a44968283",
   "metadata": {},
   "outputs": [],
   "source": []
  }
 ],
 "metadata": {
  "kernelspec": {
   "display_name": "Python 3 (ipykernel)",
   "language": "python",
   "name": "python3"
  },
  "language_info": {
   "codemirror_mode": {
    "name": "ipython",
    "version": 3
   },
   "file_extension": ".py",
   "mimetype": "text/x-python",
   "name": "python",
   "nbconvert_exporter": "python",
   "pygments_lexer": "ipython3",
   "version": "3.11.7"
  }
 },
 "nbformat": 4,
 "nbformat_minor": 5
}
